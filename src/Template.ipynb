{
 "cells": [
  {
   "cell_type": "markdown",
   "metadata": {
    "id": "uR1JW69eLfG_"
   },
   "source": [
    "# IF3170 Artificial Intelligence | Tugas Besar 2\n",
    "\n",
    "This notebook serves as a template for the assignment. Please create a copy of this notebook to complete your work. You can add more code blocks, markdown blocks, or new sections if needed.\n"
   ]
  },
  {
   "cell_type": "markdown",
   "metadata": {
    "id": "ucbaI5rBLtjJ"
   },
   "source": [
    "Group Number: 20\n",
    "\n",
    "Group Members:\n",
    "- Ahmad Naufal Ramadan (13522005)\n",
    "- Kristo Anugrah (13522024)\n",
    "- Tazkia Nizami (13522032)\n",
    "- Farhan Nafis Rayhan (13522037)"
   ]
  },
  {
   "cell_type": "markdown",
   "metadata": {
    "id": "GwzsfETHLfHA"
   },
   "source": [
    "## Import Libraries"
   ]
  },
  {
   "cell_type": "code",
   "execution_count": 1,
   "metadata": {
    "id": "jZJU5W_4LfHB"
   },
   "outputs": [],
   "source": [
    "import pandas as pd\n",
    "import numpy as np\n",
    "from IPython.display import display, Markdown\n",
    "import matplotlib.pyplot as plt\n",
    "import pickle\n",
    "\n",
    "\n",
    "# Import other libraries if needed"
   ]
  },
  {
   "cell_type": "markdown",
   "metadata": {
    "id": "OKbjLIdYLfHC"
   },
   "source": [
    "## Import Dataset"
   ]
  },
  {
   "cell_type": "code",
   "execution_count": null,
   "metadata": {
    "id": "-IWFJ-gdLfHD"
   },
   "outputs": [],
   "source": [
    "# Example of reading a csv file from a gdrive link\n",
    "\n",
    "# Take the file id from the gdrive file url\n",
    "# https://drive.google.com/file/d/1ZUtiaty9RPXhpz5F2Sy3dFPHF4YIt5iU/view?usp=sharing => The file id is 1ZUtiaty9RPXhpz5F2Sy3dFPHF4YIt5iU\n",
    "# and then put it in this format:\n",
    "# https://drive.google.com/uc?id={file_id}\n",
    "# Don't forget to change the access to public\n",
    "\n",
    "# df = pd.read_csv('https://drive.google.com/uc?id=1ZUtiaty9RPXhpz5F2Sy3dFPHF4YIt5iU')\n",
    "# df.head()\n",
    "\n",
    "# Membaca semua file csv training\n",
    "additional_features_df = pd.read_csv('../dataset/train/additional_features_train.csv')\n",
    "basic_features_df = pd.read_csv('../dataset/train/basic_features_train.csv')\n",
    "content_features_df = pd.read_csv('../dataset/train/content_features_train.csv')\n",
    "flow_features_df = pd.read_csv('../dataset/train/flow_features_train.csv')\n",
    "labels_df = pd.read_csv('../dataset/train/labels_train.csv')\n",
    "time_features_df = pd.read_csv('../dataset/train/time_features_train.csv')\n",
    "\n",
    "# Menggabungkan data training dan testing untuk analisis EDA menyeluruh\n",
    "data_with_label = pd.merge(basic_features_df, additional_features_df, on=\"id\")\n",
    "data_with_label = pd.merge(data_with_label, content_features_df, on=\"id\")\n",
    "data_with_label = pd.merge(data_with_label, flow_features_df, on=\"id\")\n",
    "data_with_label = pd.merge(data_with_label, time_features_df, on=\"id\")\n",
    "data_with_label = pd.merge(data_with_label, labels_df, on=\"id\")\n",
    "data = data_with_label.drop('label', axis=1)\n",
    "\n",
    "data.head()"
   ]
  },
  {
   "cell_type": "markdown",
   "metadata": {
    "id": "YdSor5sdIYGs"
   },
   "source": [
    "# Exploratory Data Analysis (Optional)\n",
    "\n",
    "Exploratory Data Analysis (EDA) is a crucial step in the data analysis process that involves examining and visualizing data sets to uncover patterns, trends, anomalies, and insights. It is the first step before applying more advanced statistical and machine learning techniques. EDA helps you to gain a deep understanding of the data you are working with, allowing you to make informed decisions and formulate hypotheses for further analysis."
   ]
  },
  {
   "cell_type": "code",
   "execution_count": null,
   "metadata": {
    "id": "bGiGPVYNIoWk"
   },
   "outputs": [],
   "source": [
    "# Write your code here\n",
    "categorical_features = data.select_dtypes(include=['object']).columns.tolist()\n",
    "binary_features = ['is_sm_ips_ports', 'is_ftp_login']\n",
    "\n",
    "numerical_features = data.select_dtypes(include=['int64', 'float64']).columns.tolist()\n",
    "for feature in binary_features:\n",
    "    numerical_features.remove(feature)\n",
    "numerical_features.remove('id')\n",
    "\n",
    "markdown_content = \"### Total Features\\n\"\n",
    "markdown_content += f\"* Total features: {len(categorical_features) + len(numerical_features) + len(binary_features)}\\n\"\n",
    "markdown_content += f\"* Total categorical features: {len(categorical_features)}\\n\"\n",
    "markdown_content += f\"* Total numerical features: {len(numerical_features)}\\n\"\n",
    "markdown_content += f\"* Total binary features: {len(binary_features)}\\n\"\n",
    "markdown_content += \"\\n### Categorical Features\\n\"\n",
    "markdown_content += \"\\n\".join([f\"* {feature}\" for feature in categorical_features])\n",
    "markdown_content += \"\\n\\n### Numerical Features\\n\"\n",
    "markdown_content += \"\\n\".join([f\"* {feature}\" for feature in numerical_features])\n",
    "markdown_content += \"\\n\\n### Binary Features\\n\"\n",
    "markdown_content += \"\\n\".join([f\"* {feature}\" for feature in binary_features])\n",
    "\n",
    "display(Markdown(markdown_content))"
   ]
  },
  {
   "cell_type": "code",
   "execution_count": null,
   "metadata": {},
   "outputs": [],
   "source": [
    "markdown_content = \"### Categorical Features Values\\n\"\n",
    "for feature in categorical_features:\n",
    "    markdown_content += f\"\\n#### {feature}\\n\"\n",
    "    markdown_content += f\"* Unique values: {data[feature].nunique()}\\n\"\n",
    "    markdown_content += f\"* Values: {data[feature].unique()}\\n\"\n",
    "\n",
    "display(Markdown(markdown_content))\n",
    "\n",
    "markdown_content = \"### Numerical Features Values\\n\"\n",
    "for feature in numerical_features:\n",
    "    markdown_content += f\"\\n#### {feature}\\n\"\n",
    "    unique_values = data[feature].nunique()\n",
    "    if unique_values > 150:\n",
    "        markdown_content += f\"* Min: {data[feature].min()}\\n\"\n",
    "        markdown_content += f\"* Mean: {data[feature].mean()}\\n\"\n",
    "        markdown_content += f\"* Max: {data[feature].max()}\\n\"\n",
    "        markdown_content += f\"* STD: {data[feature].std()}\\n\"\n",
    "        markdown_content += f\"* 25%: {data[feature].quantile(0.25)}\\n\"\n",
    "        markdown_content += f\"* 50%: {data[feature].quantile(0.50)}\\n\"\n",
    "        markdown_content += f\"* 75%: {data[feature].quantile(0.75)}\\n\"\n",
    "    else:\n",
    "        markdown_content += f\"* Unique values: {unique_values}\\n\"\n",
    "        markdown_content += f\"* Values: {data[feature].unique()}\\n\"\n",
    "    \n",
    "\n",
    "display(Markdown(markdown_content))"
   ]
  },
  {
   "cell_type": "code",
   "execution_count": null,
   "metadata": {},
   "outputs": [],
   "source": [
    "rows, columns = data.shape\n",
    "display(Markdown(f\"### Data shape:\"))\n",
    "display(Markdown(f\"#### Number of Instances is: {rows}\"))\n",
    "display(Markdown(f\"#### Number of Features is: {columns}\"))"
   ]
  },
  {
   "cell_type": "code",
   "execution_count": null,
   "metadata": {},
   "outputs": [],
   "source": [
    "categorical_values = data.select_dtypes(include=['object'])\n",
    "binary_values = data.loc[:, binary_features]\n",
    "numerical_values = data.select_dtypes(include=['int64', 'float64']) \\\n",
    "                            .drop(binary_features, axis=1).drop('id', axis=1)\n",
    "\n",
    "display(Markdown(\"### Numerical values:\"))\n",
    "display(numerical_values)\n",
    "display(Markdown(\"### Categorical values:\"))\n",
    "display(categorical_values)\n",
    "display(Markdown(\"### Binary values:\"))\n",
    "display(binary_values)"
   ]
  },
  {
   "cell_type": "code",
   "execution_count": null,
   "metadata": {},
   "outputs": [],
   "source": [
    "display(Markdown(\"### Numerical value statistics:\"))\n",
    "display(numerical_values.describe())"
   ]
  },
  {
   "cell_type": "code",
   "execution_count": null,
   "metadata": {},
   "outputs": [],
   "source": [
    "missing_values = data.isnull().sum().to_frame(\"missing_values_count\")\n",
    "display(Markdown(\"### Number of missing values in every column:\"))\n",
    "display(missing_values)"
   ]
  },
  {
   "cell_type": "code",
   "execution_count": null,
   "metadata": {},
   "outputs": [],
   "source": [
    "def histogram_numerical(numerical_table: pd.DataFrame):\n",
    "  fig, axes = plt.subplots(9, 4, figsize=(30, 30))\n",
    "  axes = axes.flatten()\n",
    "  for index, col in enumerate(numerical_table.columns):\n",
    "    axes[index].hist(numerical_table[col].dropna(), color='skyblue', edgecolor='black')\n",
    "    axes[index].set_title(f'Distribution of {col}')\n",
    "  fig.tight_layout()\n",
    "    \n",
    "display(Markdown(\"### Histogram of every numerical features:\"))\n",
    "histogram_numerical(numerical_values)"
   ]
  },
  {
   "cell_type": "code",
   "execution_count": null,
   "metadata": {},
   "outputs": [],
   "source": [
    "def histogram_categorical(categorical_table: pd.DataFrame):\n",
    "  fig, axes = plt.subplots(4, 1, figsize=(100, 100))\n",
    "  axes = axes.flatten()\n",
    "  for index, col in enumerate(categorical_table.columns):\n",
    "    categorical_table[col].value_counts().plot(kind=\"bar\", ax=axes[index]).set_title(col)\n",
    "    #axes[index].hist(categorical_table[col].dropna(), color='skyblue', edgecolor='black')\n",
    "    #axes[index].set_title(f'Distribution of {col}')\n",
    "  fig.tight_layout()\n",
    "    \n",
    "display(Markdown(\"### Histogram of every categorical features:\"))\n",
    "histogram_categorical(categorical_values)"
   ]
  },
  {
   "cell_type": "code",
   "execution_count": null,
   "metadata": {},
   "outputs": [],
   "source": [
    "# boxplot with outliers to see outliers in every feature\n",
    "\n",
    "def boxplot_all_column(numerical_table: pd.core.frame.DataFrame):\n",
    "  fig, axes = plt.subplots(9, 4, figsize = (20, 20))\n",
    "  axes = axes.flatten() \n",
    "  for index, col in enumerate(numerical_table.columns):\n",
    "    axes[index].boxplot(numerical_table[col].dropna(), False, sym=\"rs\", vert=False,  widths=0.5, positions=[0])\n",
    "    axes[index].set_title(f\"Boxplot of {col}\")\n",
    "  fig.tight_layout()\n",
    "\n",
    "display(Markdown(\"### Boxplot of every numerical features:\"))\n",
    "boxplot_all_column(numerical_values)"
   ]
  },
  {
   "cell_type": "code",
   "execution_count": null,
   "metadata": {},
   "outputs": [],
   "source": [
    "def count_of_outliers(numerical_table: pd.DataFrame):\n",
    "  Q1 = numerical_table.quantile(0.25)\n",
    "  Q3 = numerical_table.quantile(0.75)\n",
    "  IQR = Q3 - Q1\n",
    "  return (((numerical_table < (Q1 - 1.5 * IQR)) | (numerical_table > (Q3 + 1.5 * IQR))).sum().to_frame(\"Number of outliers\"))\n",
    "\n",
    "count_of_outliers(numerical_values)"
   ]
  },
  {
   "cell_type": "code",
   "execution_count": null,
   "metadata": {},
   "outputs": [],
   "source": [
    "import seaborn as sn\n",
    "\n",
    "corr_numerical_matrix = numerical_values.corr()\n",
    "\n",
    "plt.figure(figsize=(180, 180))\n",
    "\n",
    "sn.heatmap(corr_numerical_matrix, annot=True, cmap='coolwarm', fmt='.2f', annot_kws={\"size\": 42})\n",
    "plt.xticks(fontsize=36)\n",
    "plt.yticks(fontsize=36)\n",
    "\n",
    "display(Markdown(\"### Correlation heatmap of every pair of numerical features\"))\n",
    "plt.show()"
   ]
  },
  {
   "cell_type": "code",
   "execution_count": null,
   "metadata": {},
   "outputs": [],
   "source": [
    "corr_categorical_matrix = categorical_values.apply(lambda x : pd.factorize(x)[0]).corr(method='pearson', min_periods=1)\n",
    "display(Markdown(\"### Correlation heatmap of every pair of categorical features\"))\n",
    "display(sn.heatmap(corr_categorical_matrix, annot=True, cmap='coolwarm', fmt='.2f', annot_kws={\"size\": 10}))"
   ]
  },
  {
   "cell_type": "code",
   "execution_count": null,
   "metadata": {},
   "outputs": [],
   "source": [
    "def display_contingency_table(categorical_table: pd.DataFrame):\n",
    "  columns = categorical_table.columns\n",
    "  for index1, col1 in enumerate(columns):\n",
    "    for index2, col2 in enumerate(columns):\n",
    "      if index2 >= index1:\n",
    "        break\n",
    "      first_feature = categorical_values.loc[:, col1]\n",
    "      second_feature = categorical_values.loc[:, col2]\n",
    "      contingency_table = pd.crosstab(first_feature, second_feature)\n",
    "      display(Markdown(f\"#### Contingency table of {col1} with {col2}:\"))\n",
    "      display(contingency_table)\n",
    "\n",
    "display_contingency_table(categorical_values)"
   ]
  },
  {
   "cell_type": "markdown",
   "metadata": {
    "id": "gvx-gT3bLfHM"
   },
   "source": [
    "# 1. Split Training Set and Validation Set\n",
    "\n",
    "Splitting the training and validation set works as an early diagnostic towards the performance of the model we train. This is done before the preprocessing steps to **avoid data leakage inbetween the sets**. If you want to use k-fold cross-validation, split the data later and do the cleaning and preprocessing separately for each split.\n",
    "\n",
    "Note: For training, you should use the data contained in the `train` folder given by the TA. The `test` data is only used for kaggle submission."
   ]
  },
  {
   "cell_type": "code",
   "execution_count": null,
   "metadata": {
    "id": "4yWCUFFBLfHM"
   },
   "outputs": [],
   "source": [
    "import sklearn.model_selection\n",
    "\n",
    "X = data.drop(['attack_cat'], axis=1)\n",
    "y = data['attack_cat']\n",
    "\n",
    "X_train, X_val, y_train, y_val = sklearn.model_selection.train_test_split(X, y, test_size=0.20, random_state=42)\n",
    "\n",
    "display(Markdown(\"### X train:\"))\n",
    "display(X_train)\n",
    "display(Markdown(\"### X validation:\"))\n",
    "display(X_val)"
   ]
  },
  {
   "cell_type": "markdown",
   "metadata": {
    "id": "IC14lmo_LfHN"
   },
   "source": [
    "# 2. Data Cleaning and Preprocessing\n",
    "\n",
    "This step is the first thing to be done once a Data Scientist have grasped a general knowledge of the data. Raw data is **seldom ready for training**, therefore steps need to be taken to clean and format the data for the Machine Learning model to interpret.\n",
    "\n",
    "By performing data cleaning and preprocessing, you ensure that your dataset is ready for model training, leading to more accurate and reliable machine learning results. These steps are essential for transforming raw data into a format that machine learning algorithms can effectively learn from and make predictions.\n",
    "\n",
    "We will give some common methods for you to try, but you only have to **at least implement one method for each process**. For each step that you will do, **please explain the reason why did you do that process. Write it in a markdown cell under the code cell you wrote.**"
   ]
  },
  {
   "cell_type": "markdown",
   "metadata": {
    "id": "p95_A8hSLfHY"
   },
   "source": [
    "## A. Data Cleaning\n",
    "\n",
    "**Data cleaning** is the crucial first step in preparing your dataset for machine learning. Raw data collected from various sources is often messy and may contain errors, missing values, and inconsistencies. Data cleaning involves the following steps:\n",
    "\n",
    "1. **Handling Missing Data:** Identify and address missing values in the dataset. This can include imputing missing values, removing rows or columns with excessive missing data, or using more advanced techniques like interpolation.\n",
    "\n",
    "2. **Dealing with Outliers:** Identify and handle outliers, which are data points significantly different from the rest of the dataset. Outliers can be removed or transformed to improve model performance.\n",
    "\n",
    "3. **Data Validation:** Check for data integrity and consistency. Ensure that data types are correct, categorical variables have consistent labels, and numerical values fall within expected ranges.\n",
    "\n",
    "4. **Removing Duplicates:** Identify and remove duplicate rows, as they can skew the model's training process and evaluation metrics.\n",
    "\n",
    "5. **Feature Engineering**: Create new features or modify existing ones to extract relevant information. This step can involve scaling, normalizing, or encoding features for better model interpretability."
   ]
  },
  {
   "cell_type": "markdown",
   "metadata": {
    "id": "_wruGao9LfHZ"
   },
   "source": [
    "### I. Handling Missing Data\n",
    "\n",
    "Missing data can adversely affect the performance and accuracy of machine learning models. There are several strategies to handle missing data in machine learning:\n",
    "\n",
    "1. **Data Imputation:**\n",
    "\n",
    "    a. **Mean, Median, or Mode Imputation:** For numerical features, you can replace missing values with the mean, median, or mode of the non-missing values in the same feature. This method is simple and often effective when data is missing at random.\n",
    "\n",
    "    b. **Constant Value Imputation:** You can replace missing values with a predefined constant value (e.g., 0) if it makes sense for your dataset and problem.\n",
    "\n",
    "    c. **Imputation Using Predictive Models:** More advanced techniques involve using predictive models to estimate missing values. For example, you can train a regression model to predict missing numerical values or a classification model to predict missing categorical values.\n",
    "\n",
    "2. **Deletion of Missing Data:**\n",
    "\n",
    "    a. **Listwise Deletion:** In cases where the amount of missing data is relatively small, you can simply remove rows with missing values from your dataset. However, this approach can lead to a loss of valuable information.\n",
    "\n",
    "    b. **Column (Feature) Deletion:** If a feature has a large number of missing values and is not critical for your analysis, you can consider removing that feature altogether.\n",
    "\n",
    "3. **Domain-Specific Strategies:**\n",
    "\n",
    "    a. **Domain Knowledge:** In some cases, domain knowledge can guide the imputation process. For example, if you know that missing values are related to a specific condition, you can impute them accordingly.\n",
    "\n",
    "4. **Imputation Libraries:**\n",
    "\n",
    "    a. **Scikit-Learn:** Scikit-Learn provides a `SimpleImputer` class that can handle basic imputation strategies like mean, median, and mode imputation.\n",
    "\n",
    "    b. **Fancyimpute:** Fancyimpute is a Python library that offers more advanced imputation techniques, including matrix factorization, k-nearest neighbors, and deep learning-based methods.\n",
    "\n",
    "The choice of imputation method should be guided by the nature of your data, the amount of missing data, the problem you are trying to solve, and the assumptions you are willing to make."
   ]
  },
  {
   "cell_type": "code",
   "execution_count": 17,
   "metadata": {
    "id": "ucZNfCkiLfHZ"
   },
   "outputs": [],
   "source": [
    "# Interpolate noncategorical missing values with median\n",
    "import sklearn.impute\n",
    "from sklearn.base import BaseEstimator, TransformerMixin\n",
    "\n",
    "class ImputeNumerical(BaseEstimator, TransformerMixin):\n",
    "  def __init__(self):\n",
    "    self.numerical_columns = []\n",
    "    self.imp_mean = {}\n",
    "\n",
    "  # def fit(self, X: pd.DataFrame, y):\n",
    "  #   binary_features = ['is_sm_ips_ports', 'is_ftp_login']\n",
    "  #   categorical_values = X.select_dtypes(include=['object'])\n",
    "  #   binary_values = X.loc[:, binary_features]\n",
    "  #   numerical_values = X.select_dtypes(include=['int64', 'float64']) \\\n",
    "  #                               .drop(binary_features, axis=1)\n",
    "  #   self.numerical_columns = numerical_values.columns\n",
    "  #   for col in self.numerical_columns:\n",
    "  #     self.imp_mean[col] = sklearn.impute.SimpleImputer(missing_values=np.nan, strategy='median')\n",
    "  #     self.imp_mean[col].fit(numerical_values.loc[:, [col]])\n",
    "  #   return self\n",
    "\n",
    "  # def transform(self, X: pd.DataFrame):\n",
    "  #   transformed_X = X.copy()\n",
    "  #   for col in self.numerical_columns:\n",
    "  #     if col in transformed_X.columns:\n",
    "  #       transformed_X.loc[:, [col]] = self.imp_mean[col].transform(transformed_X.loc[:, [col]])\n",
    "  #   return transformed_X\n",
    "\n",
    "  def fit(self, X: pd.DataFrame, y):\n",
    "    self.imp_mean = sklearn.impute.SimpleImputer(missing_values=np.nan, strategy='most_frequent')\n",
    "    self.imp_mean.fit(X)\n",
    "    return self\n",
    "  \n",
    "  def transform(self, X: pd.DataFrame):\n",
    "    return pd.DataFrame(self.imp_mean.transform(X), columns=X.columns)\n",
    "  \n",
    "class ImputeCategorical(BaseEstimator, TransformerMixin):\n",
    "  def __init__(self):\n",
    "    self.categorical_columns = []\n",
    "    self.imp_mode = {}\n",
    "\n",
    "  # def fit(self, X: pd.DataFrame, y):\n",
    "  #   binary_features = ['is_sm_ips_ports', 'is_ftp_login']\n",
    "  #   categorical_values = X.select_dtypes(include=['object'])\n",
    "  #   binary_values = X.loc[:, binary_features]\n",
    "  #   numerical_values = X.select_dtypes(include=['int64', 'float64']) \\\n",
    "  #                               .drop(binary_features, axis=1)\n",
    "  #   self.categorical_columns = categorical_values.columns\n",
    "  #   for col in self.categorical_columns:\n",
    "  #     self.imp_mode[col] = sklearn.impute.SimpleImputer(missing_values=np.nan, strategy='most_frequent')\n",
    "  #     self.imp_mode[col].fit(categorical_values.loc[:, [col]])\n",
    "  #   return self\n",
    "\n",
    "  # def transform(self, X: pd.DataFrame):\n",
    "  #   transformed_X = X.copy()\n",
    "  #   for col in self.categorical_columns:\n",
    "  #     if col in transformed_X.columns:\n",
    "  #       transformed_X.loc[:, [col]] = self.imp_mode[col].transform(transformed_X.loc[:, [col]])\n",
    "  #   return transformed_X\n",
    "\n",
    "  def fit(self, X: pd.DataFrame, y):\n",
    "    self.imp_mode = sklearn.impute.SimpleImputer(missing_values=np.nan, strategy='most_frequent')\n",
    "    self.imp_mode.fit(X)\n",
    "    return self\n",
    "  \n",
    "  def transform(self, X: pd.DataFrame):\n",
    "    return pd.DataFrame(self.imp_mode.transform(X), columns=X.columns)"
   ]
  },
  {
   "cell_type": "markdown",
   "metadata": {
    "id": "zgrSMcK75VY_"
   },
   "source": [
    "### II. Dealing with Outliers\n",
    "\n",
    "Outliers are data points that significantly differ from the majority of the data. They can be unusually high or low values that do not fit the pattern of the rest of the dataset. Outliers can significantly impact model performance, so it is important to handle them properly.\n",
    "\n",
    "Some methods to handle outliers:\n",
    "1. **Imputation**: Replace with mean, median, or a boundary value.\n",
    "2. **Clipping**: Cap values to upper and lower limits.\n",
    "3. **Transformation**: Use log, square root, or power transformations to reduce their influence.\n",
    "4. **Model-Based**: Use algorithms robust to outliers (e.g., tree-based models, Huber regression)."
   ]
  },
  {
   "cell_type": "code",
   "execution_count": 18,
   "metadata": {
    "id": "CgbZ6Lv17Uf0"
   },
   "outputs": [],
   "source": [
    "from sklearn.base import BaseEstimator, TransformerMixin\n",
    "import pandas as pd\n",
    "\n",
    "\n",
    "class ReplaceOutliersWithMedian(BaseEstimator, TransformerMixin):\n",
    "    def __init__(self, threshold=3):\n",
    "        self.threshold = threshold\n",
    "        self.medians_ = None\n",
    "    \n",
    "    def fit(self, X, y=None):\n",
    "        X = X.toarray() if hasattr(X, 'toarray') else np.array(X)\n",
    "\n",
    "        self.medians_ = np.median(X, axis=0)\n",
    "        \n",
    "        return self\n",
    "    \n",
    "    def transform(self, X):\n",
    "        if self.medians_ is None:\n",
    "            raise ValueError(\"Transformer has not been fitted yet. Call 'fit' first.\")\n",
    "        \n",
    "        X = X.toarray() if hasattr(X, 'toarray') else np.array(X)\n",
    "        \n",
    "        X_transformed = X.copy()\n",
    "        \n",
    "        outlier_mask = np.abs(X_transformed) > self.threshold\n",
    "        X_transformed[outlier_mask] = self.medians_[np.where(outlier_mask)[1]]\n",
    "        \n",
    "        return X_transformed\n",
    "\n",
    "\n",
    "class DropOutliers(BaseEstimator, TransformerMixin):\n",
    "    def __init__(self, threshold=3):\n",
    "        self.threshold = threshold\n",
    "        self.medians_ = None\n",
    "    \n",
    "    def fit(self, X, y=None):\n",
    "        X = X.toarray() if hasattr(X, 'toarray') else np.array(X)\n",
    "\n",
    "        self.medians_ = np.median(X, axis=0)\n",
    "        \n",
    "        return self\n",
    "    \n",
    "    def transform(self, X):\n",
    "        if self.medians_ is None:\n",
    "            raise ValueError(\"Transformer has not been fitted yet. Call 'fit' first.\")\n",
    "        \n",
    "        X = X.toarray() if hasattr(X, 'toarray') else np.array(X)\n",
    "        \n",
    "        outlier_mask = np.abs(X) > self.threshold\n",
    "        X_transformed = X[~np.any(outlier_mask, axis=1)]\n",
    "        \n",
    "        return X_transformed"
   ]
  },
  {
   "cell_type": "markdown",
   "metadata": {
    "id": "aO0ZEZ-s6Lu-"
   },
   "source": [
    "### III. Remove Duplicates\n",
    "Handling duplicate values is crucial because they can compromise data integrity, leading to inaccurate analysis and insights. Duplicate entries can bias machine learning models, causing overfitting and reducing their ability to generalize to new data. They also inflate the dataset size unnecessarily, increasing computational costs and processing times. Additionally, duplicates can distort statistical measures and lead to inconsistencies, ultimately affecting the reliability of data-driven decisions and reporting. Ensuring data quality by removing duplicates is essential for accurate, efficient, and consistent analysis."
   ]
  },
  {
   "cell_type": "code",
   "execution_count": 19,
   "metadata": {
    "id": "BHCkkZ-v7iF8"
   },
   "outputs": [],
   "source": [
    "from sklearn.base import BaseEstimator, TransformerMixin\n",
    "import pandas as pd\n",
    "\n",
    "class RemoveDuplicates(BaseEstimator, TransformerMixin):\n",
    "    def fit(self, X: pd.DataFrame, y):\n",
    "        return self\n",
    "\n",
    "    def transform(self, X: pd.DataFrame):\n",
    "        return X.drop_duplicates(keep='first').reset_index(drop=True)"
   ]
  },
  {
   "cell_type": "markdown",
   "metadata": {
    "id": "eycPASmMLfHa"
   },
   "source": [
    "### IV. Feature Engineering\n",
    "\n",
    "**Feature engineering** involves creating new features (input variables) or transforming existing ones to improve the performance of machine learning models. Feature engineering aims to enhance the model's ability to learn patterns and make accurate predictions from the data. It's often said that \"good features make good models.\"\n",
    "\n",
    "1. **Feature Selection:** Feature engineering can involve selecting the most relevant and informative features from the dataset. Removing irrelevant or redundant features not only simplifies the model but also reduces the risk of overfitting.\n",
    "\n",
    "2. **Creating New Features:** Sometimes, the existing features may not capture the underlying patterns effectively. In such cases, engineers create new features that provide additional information. For example:\n",
    "   \n",
    "   - **Polynomial Features:** Engineers may create new features by taking the square, cube, or other higher-order terms of existing numerical features. This can help capture nonlinear relationships.\n",
    "   \n",
    "   - **Interaction Features:** Interaction features are created by combining two or more existing features. For example, if you have features \"length\" and \"width,\" you can create an \"area\" feature by multiplying them.\n",
    "\n",
    "3. **Binning or Discretization:** Continuous numerical features can be divided into bins or categories. For instance, age values can be grouped into bins like \"child,\" \"adult,\" and \"senior.\"\n",
    "\n",
    "4. **Domain-Specific Feature Engineering:** Depending on the domain and problem, engineers may create domain-specific features. For example, in fraud detection, features related to transaction history and user behavior may be engineered to identify anomalies.\n",
    "\n",
    "Feature engineering is both a creative and iterative process. It requires a deep understanding of the data, domain knowledge, and experimentation to determine which features will enhance the model's predictive power."
   ]
  },
  {
   "cell_type": "code",
   "execution_count": 20,
   "metadata": {
    "id": "UoXEV6wkLfHa"
   },
   "outputs": [],
   "source": [
    "# Write your code here\n",
    "from sklearn.feature_selection import SelectKBest, f_classif\n",
    "\n",
    "class FilterSelection(BaseEstimator, TransformerMixin):\n",
    "    def __init__(self):\n",
    "        pass\n",
    "\n",
    "    def fit(self, X: pd.DataFrame, y):\n",
    "        self.select_k_best = SelectKBest(score_func=f_classif, k=10)\n",
    "        self.select_k_best.fit(X, y)\n",
    "        return self\n",
    "\n",
    "    def transform(self, X: pd.DataFrame):\n",
    "        selected_features = self.select_k_best.get_support()\n",
    "        return X.loc[:, selected_features]"
   ]
  },
  {
   "cell_type": "markdown",
   "metadata": {
    "id": "xw11_49xLfHb"
   },
   "source": [
    "## B. Data Preprocessing\n",
    "\n",
    "**Data preprocessing** is a broader step that encompasses both data cleaning and additional transformations to make the data suitable for machine learning algorithms. Its primary goals are:\n",
    "\n",
    "1. **Feature Scaling:** Ensure that numerical features have similar scales. Common techniques include Min-Max scaling (scaling to a specific range) or standardization (mean-centered, unit variance).\n",
    "\n",
    "2. **Encoding Categorical Variables:** Machine learning models typically work with numerical data, so categorical variables need to be encoded. This can be done using one-hot encoding, label encoding, or more advanced methods like target encoding.\n",
    "\n",
    "3. **Handling Imbalanced Classes:** If dealing with imbalanced classes in a binary classification task, apply techniques such as oversampling, undersampling, or using different evaluation metrics to address class imbalance.\n",
    "\n",
    "4. **Dimensionality Reduction:** Reduce the number of features using techniques like Principal Component Analysis (PCA) or feature selection to simplify the model and potentially improve its performance.\n",
    "\n",
    "5. **Normalization:** Normalize data to achieve a standard distribution. This is particularly important for algorithms that assume normally distributed data."
   ]
  },
  {
   "cell_type": "markdown",
   "metadata": {
    "id": "rVyVnA1hLfHd"
   },
   "source": [
    "### Notes on Preprocessing processes\n",
    "\n",
    "It is advised to create functions or classes that have the same/similar type of inputs and outputs, so you can add, remove, or swap the order of the processes easily. You can implement the functions or classes by yourself\n",
    "\n",
    "or\n",
    "\n",
    "use `sklearn` library. To create a new preprocessing component in `sklearn`, implement a corresponding class that includes:\n",
    "1. Inheritance to `BaseEstimator` and `TransformerMixin`\n",
    "2. The method `fit`\n",
    "3. The method `transform`"
   ]
  },
  {
   "cell_type": "markdown",
   "metadata": {
    "id": "WhCgOl4xLfHb"
   },
   "source": [
    "### I. Feature Scaling\n",
    "\n",
    "**Feature scaling** is a preprocessing technique used in machine learning to standardize the range of independent variables or features of data. The primary goal of feature scaling is to ensure that all features contribute equally to the training process and that machine learning algorithms can work effectively with the data.\n",
    "\n",
    "Here are the main reasons why feature scaling is important:\n",
    "\n",
    "1. **Algorithm Sensitivity:** Many machine learning algorithms are sensitive to the scale of input features. If the scales of features are significantly different, some algorithms may perform poorly or take much longer to converge.\n",
    "\n",
    "2. **Distance-Based Algorithms:** Algorithms that rely on distances or similarities between data points, such as k-nearest neighbors (KNN) and support vector machines (SVM), can be influenced by feature scales. Features with larger scales may dominate the distance calculations.\n",
    "\n",
    "3. **Regularization:** Regularization techniques, like L1 (Lasso) and L2 (Ridge) regularization, add penalty terms based on feature coefficients. Scaling ensures that all features are treated equally in the regularization process.\n",
    "\n",
    "Common methods for feature scaling include:\n",
    "\n",
    "1. **Min-Max Scaling (Normalization):** This method scales features to a specific range, typically [0, 1]. It's done using the following formula:\n",
    "\n",
    "   $$X' = \\frac{X - X_{min}}{X_{max} - X_{min}}$$\n",
    "\n",
    "   - Here, $X$ is the original feature value, $X_{min}$ is the minimum value of the feature, and $X_{max}$ is the maximum value of the feature.  \n",
    "<br />\n",
    "<br />\n",
    "2. **Standardization (Z-score Scaling):** This method scales features to have a mean (average) of 0 and a standard deviation of 1. It's done using the following formula:\n",
    "\n",
    "   $$X' = \\frac{X - \\mu}{\\sigma}$$\n",
    "\n",
    "   - $X$ is the original feature value, $\\mu$ is the mean of the feature, and $\\sigma$ is the standard deviation of the feature.  \n",
    "<br />\n",
    "<br />\n",
    "3. **Robust Scaling:** Robust scaling is a method that scales features to the interquartile range (IQR) and is less affected by outliers. It's calculated as:\n",
    "\n",
    "   $$X' = \\frac{X - Q1}{Q3 - Q1}$$\n",
    "\n",
    "   - $X$ is the original feature value, $Q1$ is the first quartile (25th percentile), and $Q3$ is the third quartile (75th percentile) of the feature.  \n",
    "<br />\n",
    "<br />\n",
    "4. **Log Transformation:** In cases where data is highly skewed or has a heavy-tailed distribution, taking the logarithm of the feature values can help stabilize the variance and improve scaling.\n",
    "\n",
    "The choice of scaling method depends on the characteristics of your data and the requirements of your machine learning algorithm. **Min-max scaling and standardization are the most commonly used techniques and work well for many datasets.**\n",
    "\n",
    "Scaling should be applied separately to each training and test set to prevent data leakage from the test set into the training set. Additionally, **some algorithms may not require feature scaling, particularly tree-based models.**"
   ]
  },
  {
   "cell_type": "code",
   "execution_count": 21,
   "metadata": {
    "id": "COef9EbCLfHb"
   },
   "outputs": [],
   "source": [
    "# Write your code here\n",
    "from sklearn.preprocessing import MinMaxScaler, MaxAbsScaler\n",
    "\n",
    "class MinMaxFeatureScaling(BaseEstimator, TransformerMixin):\n",
    "    def __init__(self):\n",
    "        self.scaler = MinMaxScaler()\n",
    "\n",
    "    def fit(self, X, y=None):\n",
    "        self.scaler.fit(X)\n",
    "        return self\n",
    "\n",
    "    def transform(self, X):\n",
    "        X_scaled = X.copy()\n",
    "        X_scaled = pd.DataFrame(self.scaler.transform(X), columns=X.columns)\n",
    "        return X_scaled\n",
    "    \n",
    "class MaxAbsFeatureScaling(BaseEstimator, TransformerMixin):\n",
    "    def __init__(self):\n",
    "        self.scaler = MaxAbsScaler()\n",
    "\n",
    "    def fit(self, X, y=None):\n",
    "        self.scaler.fit(X)\n",
    "        return self\n",
    "\n",
    "    def transform(self, X):\n",
    "        X_scaled = X.copy()\n",
    "        X_scaled = pd.DataFrame(self.scaler.transform(X), columns=X.columns)\n",
    "        return X_scaled"
   ]
  },
  {
   "cell_type": "markdown",
   "metadata": {
    "id": "f_Lh-4JwLfHc"
   },
   "source": [
    "### II. Feature Encoding\n",
    "\n",
    "**Feature encoding**, also known as **categorical encoding**, is the process of converting categorical data (non-numeric data) into a numerical format so that it can be used as input for machine learning algorithms. Most machine learning models require numerical data for training and prediction, so feature encoding is a critical step in data preprocessing.\n",
    "\n",
    "Categorical data can take various forms, including:\n",
    "\n",
    "1. **Nominal Data:** Categories with no intrinsic order, like colors or country names.  \n",
    "\n",
    "2. **Ordinal Data:** Categories with a meaningful order but not necessarily equidistant, like education levels (e.g., \"high school,\" \"bachelor's,\" \"master's\").\n",
    "\n",
    "There are several common methods for encoding categorical data:\n",
    "\n",
    "1. **Label Encoding:**\n",
    "\n",
    "   - Label encoding assigns a unique integer to each category in a feature.\n",
    "   - It's suitable for ordinal data where there's a clear order among categories.\n",
    "   - For example, if you have an \"education\" feature with values \"high school,\" \"bachelor's,\" and \"master's,\" you can encode them as 0, 1, and 2, respectively.\n",
    "<br />\n",
    "<br />\n",
    "2. **One-Hot Encoding:**\n",
    "\n",
    "   - One-hot encoding creates a binary (0 or 1) column for each category in a nominal feature.\n",
    "   - It's suitable for nominal data where there's no inherent order among categories.\n",
    "   - Each category becomes a new feature, and the presence (1) or absence (0) of a category is indicated for each row.\n",
    "<br />\n",
    "<br />\n",
    "3. **Target Encoding (Mean Encoding):**\n",
    "\n",
    "   - Target encoding replaces each category with the mean of the target variable for that category.\n",
    "   - It's often used for classification problems."
   ]
  },
  {
   "cell_type": "code",
   "execution_count": 22,
   "metadata": {
    "id": "psElSUugLfHc"
   },
   "outputs": [],
   "source": [
    "import sklearn.preprocessing\n",
    "from sklearn.preprocessing import TargetEncoder\n",
    "\n",
    "class OneHotCategorical(BaseEstimator, TransformerMixin):\n",
    "  def __init__(self):\n",
    "    self.categorical_columns = []\n",
    "    self.onehot = None\n",
    "\n",
    "  def fit(self, X: pd.DataFrame, y):\n",
    "    # binary_features = ['is_sm_ips_ports', 'is_ftp_login']\n",
    "    # categorical_values = X.select_dtypes(include=['object'])\n",
    "    # binary_values = X.loc[:, binary_features]\n",
    "    # numerical_values = X.select_dtypes(include=['int64', 'float64']) \\\n",
    "    #                             .drop(binary_features, axis=1).drop(['id'], axis=1)\n",
    "    # self.categorical_columns = categorical_values.columns\n",
    "    self.onehot = sklearn.preprocessing.OneHotEncoder(sparse_output=False, handle_unknown='ignore')\n",
    "    self.onehot.fit(X)\n",
    "    return self\n",
    "  \n",
    "  def transform(self, X: pd.DataFrame):\n",
    "    # transformed_X = X.copy()\n",
    "    # onehot_X = self.onehot.transform(transformed_X.loc[:, self.categorical_columns])\n",
    "    # onehot_df = pd.DataFrame(onehot_X, columns=self.onehot.get_feature_names_out(self.categorical_columns), index=transformed_X.index)\n",
    "    # to_return = pd.concat([transformed_X.drop(columns=self.categorical_columns), onehot_df], axis=1)\n",
    "    # return to_return\n",
    "    return pd.DataFrame(self.onehot.transform(X), columns=self.onehot.get_feature_names_out(), index=X.index)\n",
    "\n",
    "class TargetCategorical(BaseEstimator, TransformerMixin):\n",
    "  def __init__(self):\n",
    "    self.categorical_columns = []\n",
    "    self.target = None\n",
    "\n",
    "  def fit(self, X: pd.DataFrame, y):\n",
    "    # binary_features = ['is_sm_ips_ports', 'is_ftp_login']\n",
    "    # categorical_values = X.select_dtypes(include=['object'])\n",
    "    # binary_values = X.loc[:, binary_features]\n",
    "    # numerical_values = X.select_dtypes(include=['int64', 'float64']) \\\n",
    "    #                             .drop(binary_features, axis=1).drop(['id'], axis=1)\n",
    "    # self.categorical_columns = categorical_values.columns\n",
    "    self.target = TargetEncoder(smooth=\"auto\")\n",
    "    self.target.fit(X, y)\n",
    "    return self\n",
    "  \n",
    "  def transform(self, X: pd.DataFrame):\n",
    "    # transformed_X = X.copy()\n",
    "    # target_X = self.target.transform(transformed_X.loc[:, self.categorical_columns])\n",
    "    # target_df = pd.DataFrame(target_X, columns=self.categorical_columns, index=transformed_X.index)\n",
    "    # to_return = pd.concat([transformed_X.drop(columns=self.categorical_columns), target_df], axis=1)\n",
    "    # return to_return\n",
    "    return pd.DataFrame(self.target.transform(X), columns=self.target.get_feature_names_out(), index=X.index)"
   ]
  },
  {
   "cell_type": "code",
   "execution_count": null,
   "metadata": {},
   "outputs": [],
   "source": [
    "%pip install imblearn"
   ]
  },
  {
   "cell_type": "markdown",
   "metadata": {
    "id": "jKQO9wtB8Pc0"
   },
   "source": [
    "### III. Handling Imbalanced Dataset\n",
    "\n",
    "**Handling imbalanced datasets** is important because imbalanced data can lead to several issues that negatively impact the performance and reliability of machine learning models. Here are some key reasons:\n",
    "\n",
    "1. **Biased Model Performance**:\n",
    "\n",
    " - Models trained on imbalanced data tend to be biased towards the majority class, leading to poor performance on the minority class. This can result in misleading accuracy metrics.\n",
    "\n",
    "2. **Misleading Accuracy**:\n",
    "\n",
    " - High overall accuracy can be misleading in imbalanced datasets. For example, if 95% of the data belongs to one class, a model that always predicts the majority class will have 95% accuracy but will fail to identify the minority class.\n",
    "\n",
    "3. **Poor Generalization**:\n",
    "\n",
    " - Models trained on imbalanced data may not generalize well to new, unseen data, especially if the minority class is underrepresented.\n",
    "\n",
    "\n",
    "Some methods to handle imbalanced datasets:\n",
    "1. **Resampling Methods**:\n",
    "\n",
    " - Oversampling: Increase the number of instances in the minority class by duplicating or generating synthetic samples (e.g., SMOTE).\n",
    " - Undersampling: Reduce the number of instances in the majority class to balance the dataset.\n",
    "\n",
    "2. **Evaluation Metrics**:\n",
    "\n",
    " - Use appropriate evaluation metrics such as precision, recall, F1-score, ROC-AUC, and confusion matrix instead of accuracy to better assess model performance on imbalanced data.\n",
    "\n",
    "3. **Algorithmic Approaches**:\n",
    "\n",
    " - Use algorithms that are designed to handle imbalanced data, such as decision trees, random forests, or ensemble methods.\n",
    " - Adjust class weights in algorithms to give more importance to the minority class."
   ]
  },
  {
   "cell_type": "code",
   "execution_count": 24,
   "metadata": {
    "id": "u2BQd2XJ9W1i"
   },
   "outputs": [],
   "source": [
    "from imblearn.over_sampling import SMOTE\n",
    "\n",
    "class SMOTEImbalance(BaseEstimator, TransformerMixin):\n",
    "    def __init__(self):\n",
    "        self.smote = None\n",
    "\n",
    "    def fit(self, X: pd.DataFrame, y: pd.DataFrame):\n",
    "        self.smote = SMOTE(sampling_strategy='auto', random_state=42)\n",
    "        self.smote.fit_resample(X, y) \n",
    "        return self\n",
    "\n",
    "    def transform(self, X: pd.DataFrame, y: pd.DataFrame):\n",
    "        X_resampled, y_resampled = self.smote.fit_resample(X, y)\n",
    "        return pd.DataFrame(X_resampled, columns=X.columns), pd.DataFrame(y_resampled, columns=y.columns)"
   ]
  },
  {
   "cell_type": "markdown",
   "metadata": {
    "id": "fTMSyUzf_-HQ"
   },
   "source": [
    "### IV. Data Normalization\n",
    "\n",
    "Data normalization is used to achieve a standard distribution. Without normalization, models or processes that rely on the assumption of normality may not work correctly. Normalization helps reduce the magnitude effect and ensures numerical stability during optimization."
   ]
  },
  {
   "cell_type": "code",
   "execution_count": 25,
   "metadata": {
    "id": "HLOWHftjF1JU"
   },
   "outputs": [],
   "source": [
    "from sklearn.base import BaseEstimator, TransformerMixin\n",
    "from sklearn.preprocessing import StandardScaler\n",
    "\n",
    "class StandardScaleNumerical(BaseEstimator, TransformerMixin):\n",
    "  def __init__(self, with_mean=True):\n",
    "    self.with_mean = with_mean\n",
    "    self.scaler = None\n",
    "\n",
    "  def fit(self, X: pd.DataFrame, y):\n",
    "    # binary_features = ['is_sm_ips_ports', 'is_ftp_login']\n",
    "    # categorical_values = X.select_dtypes(include=['object'])\n",
    "    # binary_values = X.loc[:, binary_features]\n",
    "    # numerical_values = X.select_dtypes(include=['int64', 'float64']) \\\n",
    "    #                             .drop(binary_features, axis=1)\n",
    "\n",
    "    self.scaler = StandardScaler(with_mean=self.with_mean)\n",
    "    self.scaler.fit(X)\n",
    "\n",
    "    return self\n",
    "\n",
    "  def transform(self, X: pd.DataFrame):\n",
    "    # binary_features = ['is_sm_ips_ports', 'is_ftp_login']\n",
    "    # categorical_values = X.select_dtypes(include=['object'])\n",
    "    # binary_values = X.loc[:, binary_features]\n",
    "    # numerical_values = X.select_dtypes(include=['int64', 'float64']) \\\n",
    "    #                             .drop(binary_features, axis=1)\n",
    "    \n",
    "    # transform_X = self.scaler.transform(numerical_values)\n",
    "    # scaled = pd.DataFrame(transform_X, columns=self.scaler.get_feature_names_out())\n",
    "    \n",
    "    # binary_values.reset_index(drop=True, inplace=True)\n",
    "    # scaled.reset_index(drop=True, inplace=True)\n",
    "    # categorical_values.reset_index(drop=True, inplace=True)\n",
    "    \n",
    "    # to_return = pd.concat([scaled, binary_values, categorical_values], axis=1)\n",
    "    # return to_return\n",
    "    return pd.DataFrame(self.scaler.transform(X), columns=self.scaler.get_feature_names_out())"
   ]
  },
  {
   "cell_type": "markdown",
   "metadata": {
    "id": "MSZPZSntF3Kb"
   },
   "source": [
    "### V. Dimensionality Reduction\n",
    "\n",
    "Dimensionality reduction is a technique used in data preprocessing to reduce the number of input features (dimensions) in a dataset while retaining as much important information as possible. It is essential when dealing with high-dimensional data, where too many features can cause problems like increased computational costs, overfitting, and difficulty in visualization. Reducing dimensions simplifies the data, making it easier to analyze and improving the performance of machine learning models.\n",
    "\n",
    "One of the main approaches to dimensionality reduction is feature extraction. Feature extraction creates new, smaller sets of features that capture the essence of the original data. Common techniques include:\n",
    "\n",
    "1. **Principal Component Analysis (PCA)**: Converts correlated features into a smaller number of uncorrelated \"principal components.\"\n",
    "2. **t-SNE (t-Distributed Stochastic Neighbor Embedding)**: A visualization-focused method to project high-dimensional data into 2D or 3D spaces.\n",
    "3. **Autoencoders**: Neural networks that learn compressed representations of the data."
   ]
  },
  {
   "cell_type": "code",
   "execution_count": 26,
   "metadata": {
    "id": "5rksSMAWICY_"
   },
   "outputs": [],
   "source": [
    "# Write your code here"
   ]
  },
  {
   "cell_type": "markdown",
   "metadata": {
    "id": "-ctVzt5DLfHd"
   },
   "source": [
    "# 3. Compile Preprocessing Pipeline\n",
    "\n",
    "All of the preprocessing classes or functions defined earlier will be compiled in this step."
   ]
  },
  {
   "cell_type": "markdown",
   "metadata": {
    "id": "S_ZlncSVjJG6"
   },
   "source": [
    "If you use sklearn to create preprocessing classes, you can list your preprocessing classes in the Pipeline object sequentially, and then fit and transform your data."
   ]
  },
  {
   "cell_type": "code",
   "execution_count": 48,
   "metadata": {
    "id": "jHraoW_7LfHd"
   },
   "outputs": [],
   "source": [
    "from sklearn.pipeline import Pipeline\n",
    "from sklearn.compose import ColumnTransformer\n",
    "from sklearn.decomposition import PCA\n",
    "\n",
    "numerical_pipeline = Pipeline([\n",
    "    ('imputer', ImputeNumerical()),\n",
    "    ('scaler', MinMaxFeatureScaling()),\n",
    "    # ('standard', StandardScaleNumerical())\n",
    "])\n",
    "\n",
    "categorical_pipeline = Pipeline([\n",
    "    ('imputer', ImputeCategorical()),\n",
    "    ('onehot', OneHotCategorical()),\n",
    "    ('scaler', MaxAbsFeatureScaling()),\n",
    "    # ('standard', StandardScaleNumerical(with_mean=False))\n",
    "])\n",
    "\n",
    "preprocessor = ColumnTransformer([\n",
    "    ('numerical', numerical_pipeline, [*numerical_features, *binary_features]),\n",
    "    ('categorical', categorical_pipeline, [feature for feature in categorical_features if (feature != 'attack_cat')]),\n",
    "])\n",
    "\n",
    "pipe = Pipeline([\n",
    "    ('preprocessor', preprocessor),\n",
    "    # ('outlier', ReplaceOutliersWithMedian()), \n",
    "    ('filter', SelectKBest(score_func=f_classif, k=70)),\n",
    "    # ('pca', PCA(n_components=70)),\n",
    "])"
   ]
  },
  {
   "cell_type": "code",
   "execution_count": null,
   "metadata": {
    "id": "9s56aFFxLfHd"
   },
   "outputs": [],
   "source": [
    "# # Your code should work up until this point\n",
    "train_set = pipe.fit_transform(X_train, y_train)\n",
    "val_set = pipe.transform(X_val)\n",
    "print(train_set.shape)\n",
    "print(val_set.shape)"
   ]
  },
  {
   "cell_type": "markdown",
   "metadata": {
    "id": "9A3adbZXLfHe"
   },
   "source": [
    "# 4. Modeling and Validation\n",
    "\n",
    "Modelling is the process of building your own machine learning models to solve specific problems, or in this assignment context, predicting the target feature `attack_cat`. Validation is the process of evaluating your trained model using the validation set or cross-validation method and providing some metrics that can help you decide what to do in the next iteration of development."
   ]
  },
  {
   "cell_type": "code",
   "execution_count": 29,
   "metadata": {},
   "outputs": [],
   "source": [
    "from sklearn.model_selection import KFold\n",
    "from sklearn.model_selection import cross_val_score\n",
    "from sklearn.metrics import f1_score\n",
    "\n",
    "kf = KFold(n_splits=5, shuffle=True, random_state=42)"
   ]
  },
  {
   "cell_type": "markdown",
   "metadata": {
    "id": "ZnhMNbBILfHf"
   },
   "source": [
    "## A. KNN"
   ]
  },
  {
   "cell_type": "code",
   "execution_count": null,
   "metadata": {
    "id": "KV6ICmFmlqjk"
   },
   "outputs": [],
   "source": [
    "# Type your code here\n",
    "from sklearn.neighbors import KNeighborsClassifier\n",
    "\n",
    "knn = KNeighborsClassifier()\n",
    "knn.fit(train_set, y_train)\n",
    "\n",
    "scores = cross_val_score(knn, train_set, y_train, cv=kf, scoring='accuracy')\n",
    "print(f\"Cross validation scores: {scores}\")\n",
    "print(f\"Mean accuracy: {scores.mean()}\")\n",
    "print(f\"Standard deviation of accuracy: {scores.std()}\")\n",
    "\n",
    "y_pred = knn.predict(val_set)\n",
    "f1 = f1_score(y_val, y_pred, average='macro')\n",
    "print(f\"F1 score: {f1}\")\n",
    "\n",
    "df = pd.DataFrame()\n",
    "df['attack_cat'] = y_val\n",
    "df['predicted'] = y_pred\n",
    "df.head()"
   ]
  },
  {
   "cell_type": "markdown",
   "metadata": {
    "id": "nW0bMzkDLfHf"
   },
   "source": [
    "## B. Naive Bayes"
   ]
  },
  {
   "cell_type": "code",
   "execution_count": null,
   "metadata": {
    "id": "C_XwsN_-LfHg"
   },
   "outputs": [],
   "source": [
    "# Type your code here\n",
    "from sklearn.naive_bayes import GaussianNB\n",
    "\n",
    "nb = GaussianNB()\n",
    "nb.fit(train_set, y_train)\n",
    "\n",
    "scores = cross_val_score(nb, train_set, y_train, cv=kf, scoring='accuracy')\n",
    "print(f\"Cross validation scores: {scores}\")\n",
    "print(f\"Mean accuracy: {scores.mean()}\")\n",
    "print(f\"Standard deviation of accuracy: {scores.std()}\")\n",
    "\n",
    "y_pred = nb.predict(val_set)\n",
    "f1 = f1_score(y_val, y_pred, average='macro')\n",
    "print(f\"F1 score: {f1}\")\n",
    "\n",
    "df = pd.DataFrame()\n",
    "df['attack_cat'] = y_val\n",
    "df['predicted'] = y_pred\n",
    "df.head()"
   ]
  },
  {
   "cell_type": "markdown",
   "metadata": {},
   "source": [
    "### Custom Naive Bayes"
   ]
  },
  {
   "cell_type": "code",
   "execution_count": 46,
   "metadata": {},
   "outputs": [],
   "source": [
    "from sklearn.base import BaseEstimator, ClassifierMixin\n",
    "\n",
    "class CustomNaiveBayes(BaseEstimator, TransformerMixin):\n",
    "    def __init__(self):\n",
    "        self.classes = None\n",
    "        self.class_priors = None\n",
    "        self.class_means = None\n",
    "        self.class_variances = None\n",
    "    \n",
    "    def fit(self, X, y):\n",
    "\n",
    "        self.classes = np.unique(y)\n",
    "        n_classes = len(self.classes)\n",
    "        n_features = X.shape[1]\n",
    "\n",
    "        self.class_means = np.zeros((n_classes, n_features))\n",
    "        self.class_variances = np.zeros((n_classes, n_features))\n",
    "        self.class_priors = np.zeros(n_classes)\n",
    "\n",
    "        for i, c in enumerate(self.classes):\n",
    "            X_c = X[y == c]\n",
    "            self.class_priors[i] = X_c.shape[0] / X.shape[0]\n",
    "            self.class_means[i, :] = X_c.mean(axis=0)\n",
    "            self.class_variances[i, :] = X_c.var(axis=0) + 1e-7\n",
    "        \n",
    "        return self\n",
    "    \n",
    "    def _gaussian_probability(self, x, mean, variance):\n",
    "        exponent = np.exp(-((x - mean)**2 / (2 * variance)))\n",
    "        return (1 / (np.sqrt(2 * np.pi * variance))) * exponent\n",
    "    \n",
    "    def predict_proba(self, X):\n",
    "        n_samples = X.shape[0]\n",
    "        n_classes = len(self.classes)\n",
    "        \n",
    "        probabilities = np.zeros((n_samples, n_classes))\n",
    "        for i in range(n_classes):\n",
    "            prior = np.log(self.class_priors[i])\n",
    "            conditional = np.sum(np.log(\n",
    "                self._gaussian_probability(\n",
    "                    X, \n",
    "                    self.class_means[i, :], \n",
    "                    self.class_variances[i, :]\n",
    "                ) + 1e-10 \n",
    "            ), axis=1)\n",
    "            \n",
    "            \n",
    "            probabilities[:, i] = prior + conditional\n",
    "        \n",
    "        probabilities = np.exp(probabilities)\n",
    "        probabilities /= probabilities.sum(axis=1, keepdims=True)\n",
    "        \n",
    "        return probabilities\n",
    "    \n",
    "    def predict(self, X):\n",
    "        probabilities = self.predict_proba(X)\n",
    "        return self.classes[np.argmax(probabilities, axis=1)]\n",
    "    \n",
    "    def score(self, X, y):\n",
    "        y_pred = self.predict(X)\n",
    "        return np.mean(y_pred == y)\n"
   ]
  },
  {
   "cell_type": "code",
   "execution_count": null,
   "metadata": {},
   "outputs": [],
   "source": [
    "model = CustomNaiveBayes()\n",
    "model.fit(train_set, y_train)\n",
    "\n",
    "scores = cross_val_score(model, train_set, y_train, cv=kf, scoring='accuracy')\n",
    "print(f\"Cross validation scores: {scores}\")\n",
    "print(f\"Mean accuracy: {scores.mean()}\")\n",
    "print(f\"Standard deviation of accuracy: {scores.std()}\")\n",
    "\n",
    "y_pred = model.predict(val_set)\n",
    "\n",
    "f1 = f1_score(y_val, y_pred, average='macro')\n",
    "print(f\"F1 score: {f1}\")\n",
    "\n",
    "df = pd.DataFrame({'attack_cat': y_val, 'predicted': y_pred})\n",
    "df.head()"
   ]
  },
  {
   "cell_type": "markdown",
   "metadata": {
    "id": "TLDtIkPdLfHg"
   },
   "source": [
    "## C. ID3"
   ]
  },
  {
   "cell_type": "code",
   "execution_count": null,
   "metadata": {
    "id": "gZ6_x1LKLfHh"
   },
   "outputs": [],
   "source": [
    "# Type your code here\n",
    "from sklearn.tree import DecisionTreeClassifier\n",
    "from sklearn.pipeline import make_pipeline\n",
    "\n",
    "dt = DecisionTreeClassifier(criterion='entropy', random_state=42)\n",
    "dt.fit(train_set, y_train)\n",
    "\n",
    "scores = cross_val_score(dt, train_set, y_train, cv=kf, scoring='accuracy')\n",
    "print(f\"Cross validation scores: {scores}\")\n",
    "print(f\"Mean accuracy: {scores.mean()}\")\n",
    "print(f\"Standard deviation of accuracy: {scores.std()}\")\n",
    "\n",
    "y_pred = dt.predict(val_set)\n",
    "f1 = f1_score(y_val, y_pred, average='macro')\n",
    "print(f\"F1 score: {f1}\")\n",
    "\n",
    "df = pd.DataFrame()\n",
    "df['attack_cat'] = y_val\n",
    "df['predicted'] = y_pred\n",
    "df.head()"
   ]
  },
  {
   "cell_type": "code",
   "execution_count": 35,
   "metadata": {},
   "outputs": [],
   "source": [
    "from sklearn.utils.validation import check_X_y, check_array, check_is_fitted\n",
    "from sklearn.base import BaseEstimator, ClassifierMixin\n",
    "from sklearn.preprocessing import LabelEncoder\n",
    "\n",
    "class ID3(BaseEstimator, ClassifierMixin):\n",
    "    def __init__(self, max_depth=5, n_bins=10):\n",
    "        self.max_depth = max_depth\n",
    "        self.n_bins = n_bins\n",
    "    \n",
    "    def _discretize(self, X):\n",
    "        X_binned = np.zeros_like(X, dtype=int)\n",
    "        for i in range(X.shape[1]):\n",
    "            bins = np.linspace(X[:, i].min(), X[:, i].max(), self.n_bins + 1)\n",
    "            X_binned[:, i] = np.digitize(X[:, i], bins[1:-1]) \n",
    "        return X_binned\n",
    "    \n",
    "    def fit(self, X, y):\n",
    "        X = np.asarray(X, dtype=np.float64)\n",
    "        le = LabelEncoder()\n",
    "        y = le.fit_transform(y)\n",
    "        X, y = check_X_y(X, y, dtype=np.float64)\n",
    "        \n",
    "        X_binned = self._discretize(X)\n",
    "        \n",
    "        self.tree_ = self._build_tree(X_binned, y)\n",
    "        \n",
    "        self.n_features_in_ = X.shape[1]\n",
    "        self.classes_ = le.classes_\n",
    "        self.label_encoder_ = le\n",
    "        \n",
    "        return self\n",
    "    \n",
    "    def _entropy(self, y):\n",
    "        _, counts = np.unique(y, return_counts=True)\n",
    "        probabilities = counts / len(y)\n",
    "        return -np.sum(probabilities * np.log2(probabilities + 1e-10))\n",
    "    \n",
    "    def _information_gain(self, X, y, feature_idx):\n",
    "        total_entropy = self._entropy(y)\n",
    "        \n",
    "        unique_values = np.unique(X[:, feature_idx])\n",
    "        \n",
    "        weighted_entropies = np.array([\n",
    "            len(y[X[:, feature_idx] == value]) / len(y) * \n",
    "            self._entropy(y[X[:, feature_idx] == value])\n",
    "            for value in unique_values\n",
    "        ])\n",
    "        \n",
    "        return total_entropy - np.sum(weighted_entropies)\n",
    "    \n",
    "    def _build_tree(self, X, y, depth=0):\n",
    "        unique_classes = np.unique(y)\n",
    "        \n",
    "        if (len(unique_classes) == 1 or \n",
    "            depth == self.max_depth or \n",
    "            X.shape[1] == 0):\n",
    "            return np.argmax(np.bincount(y)) if len(y) > 0 else None\n",
    "        \n",
    "        gains = np.array([\n",
    "            self._information_gain(X, y, i) \n",
    "            for i in range(X.shape[1])\n",
    "        ])\n",
    "        \n",
    "        best_feature = np.argmax(gains)\n",
    "        max_gain = gains[best_feature]\n",
    "        \n",
    "        if max_gain == 0:\n",
    "            return np.argmax(np.bincount(y))\n",
    "        \n",
    "        node = {'feature': best_feature}\n",
    "        node['children'] = {}\n",
    "        \n",
    "        unique_values = np.unique(X[:, best_feature])\n",
    "        \n",
    "        for value in unique_values:\n",
    "            mask = X[:, best_feature] == value\n",
    "            \n",
    "            X_subset = np.delete(X[mask], best_feature, axis=1)\n",
    "            y_subset = y[mask]\n",
    "            \n",
    "            if len(y_subset) == 0:\n",
    "                continue\n",
    "            \n",
    "            subtree = self._build_tree(\n",
    "                X_subset,\n",
    "                y_subset,\n",
    "                depth=depth+1\n",
    "            )\n",
    "            \n",
    "            node['children'][value] = subtree\n",
    "        \n",
    "        return node\n",
    "    \n",
    "    def predict(self, X):\n",
    "        X = check_array(X, dtype=np.float64)\n",
    "        check_is_fitted(self, ['tree_', 'classes_'])\n",
    "        \n",
    "        X_binned = self._discretize(X)\n",
    "        \n",
    "        predictions = np.array([self._predict_single(x) for x in X_binned])\n",
    "        return self.label_encoder_.inverse_transform(predictions)\n",
    "    \n",
    "    def _predict_single(self, x):\n",
    "        node = self.tree_\n",
    "        \n",
    "        while isinstance(node, dict):\n",
    "            feature = node['feature']\n",
    "            value = x[feature]\n",
    "            \n",
    "            node = node['children'].get(value, list(node['children'].values())[0])\n",
    "            x = np.delete(x, feature)\n",
    "        \n",
    "        return node\n",
    "    \n",
    "    def predict_proba(self, X):\n",
    "        X = check_array(X, dtype=np.float64)\n",
    "        check_is_fitted(self, ['tree_', 'classes_'])\n",
    "        \n",
    "        predictions = self.predict(X)\n",
    "        \n",
    "        proba = np.zeros((X.shape[0], len(self.classes_)))\n",
    "        proba[np.arange(len(predictions)), \n",
    "              self.label_encoder_.transform(predictions)] = 1\n",
    "        \n",
    "        return proba\n",
    "    \n",
    "    def score(self, X, y):\n",
    "        predictions = self.predict(X)\n",
    "        return np.mean(predictions == y)"
   ]
  },
  {
   "cell_type": "code",
   "execution_count": null,
   "metadata": {},
   "outputs": [],
   "source": [
    "id3 = ID3(max_depth=70, n_bins=66)\n",
    "id3.fit(train_set, y_train)\n",
    "\n",
    "scores = cross_val_score(id3, train_set, y_train, cv=kf, scoring='accuracy', n_jobs=10, verbose=1)\n",
    "print(f\"Cross validation scores: {scores}\")\n",
    "print(f\"Mean accuracy: {scores.mean()}\")\n",
    "print(f\"Standard deviation of accuracy: {scores.std()}\")\n",
    "\n",
    "y_pred = id3.predict(val_set)\n",
    "f1 = f1_score(y_val, y_pred, average='macro')\n",
    "print(f\"F1 score: {f1}\")\n",
    "\n",
    "df = pd.DataFrame()\n",
    "df['attack_cat'] = y_val\n",
    "df['predicted'] = y_pred\n",
    "df.head()"
   ]
  },
  {
   "cell_type": "markdown",
   "metadata": {
    "id": "LoH2u6fOLfHh"
   },
   "source": [
    "## D. Improvements (Optional)\n",
    "\n",
    "- **Visualize the model evaluation result**\n",
    "\n",
    "This will help you to understand the details more clearly about your model's performance. From the visualization, you can see clearly if your model is leaning towards a class than the others. (Hint: confusion matrix, ROC-AUC curve, etc.)\n",
    "\n",
    "- **Explore the hyperparameters of your models**\n",
    "\n",
    "Each models have their own hyperparameters. And each of the hyperparameter have different effects on the model behaviour. You can optimize the model performance by finding the good set of hyperparameters through a process called **hyperparameter tuning**. (Hint: Grid search, random search, bayesian optimization)\n",
    "\n",
    "- **Cross-validation**\n",
    "\n",
    "Cross-validation is a critical technique in machine learning and data science for evaluating and validating the performance of predictive models. It provides a more **robust** and **reliable** evaluation method compared to a hold-out (single train-test set) validation. Though, it requires more time and computing power because of how cross-validation works. (Hint: k-fold cross-validation, stratified k-fold cross-validation, etc.)"
   ]
  },
  {
   "cell_type": "code",
   "execution_count": 37,
   "metadata": {
    "id": "pg-A54yELfHh"
   },
   "outputs": [],
   "source": [
    "# Type your code here"
   ]
  },
  {
   "cell_type": "markdown",
   "metadata": {
    "id": "Li4l53DjLfHh"
   },
   "source": [
    "## E. Submission\n",
    "To predict the test set target feature and submit the results to the kaggle competition platform, do the following:\n",
    "1. Create a new pipeline instance identical to the first in Data Preprocessing\n",
    "2. With the pipeline, apply `fit_transform` to the original training set before splitting, then only apply `transform` to the test set.\n",
    "3. Retrain the model on the preprocessed training set\n",
    "4. Predict the test set\n",
    "5. Make sure the submission contains the `id` and `attack_cat` column."
   ]
  },
  {
   "cell_type": "code",
   "execution_count": null,
   "metadata": {
    "id": "LeqnfWc-LfHi"
   },
   "outputs": [],
   "source": [
    "# Membaca semua file csv test\n",
    "additional_features_df = pd.read_csv('../dataset/test/additional_features_test.csv')\n",
    "basic_features_df = pd.read_csv('../dataset/test/basic_features_test.csv')\n",
    "content_features_df = pd.read_csv('../dataset/test/content_features_test.csv')\n",
    "flow_features_df = pd.read_csv('../dataset/test/flow_features_test.csv')\n",
    "time_features_df = pd.read_csv('../dataset/test/time_features_test.csv')\n",
    "\n",
    "# Menggabungkan data training dan testing untuk analisis EDA menyeluruh\n",
    "test_data = pd.merge(basic_features_df, additional_features_df, on=\"id\")\n",
    "test_data = pd.merge(test_data, content_features_df, on=\"id\")\n",
    "test_data = pd.merge(test_data, flow_features_df, on=\"id\")\n",
    "test_data = pd.merge(test_data, time_features_df, on=\"id\")\n",
    "\n",
    "data.head()"
   ]
  },
  {
   "cell_type": "code",
   "execution_count": 51,
   "metadata": {},
   "outputs": [],
   "source": [
    "from sklearn.pipeline import Pipeline\n",
    "from sklearn.compose import ColumnTransformer\n",
    "from sklearn.decomposition import PCA\n",
    "\n",
    "numerical_pipeline = Pipeline([\n",
    "    ('imputer', ImputeNumerical()),\n",
    "    ('scaler', MinMaxFeatureScaling()),\n",
    "    # ('standard', StandardScaleNumerical())\n",
    "])\n",
    "\n",
    "categorical_pipeline = Pipeline([\n",
    "    ('imputer', ImputeCategorical()),\n",
    "    ('onehot', OneHotCategorical()),\n",
    "    ('scaler', MaxAbsFeatureScaling()),\n",
    "    # ('standard', StandardScaleNumerical(with_mean=False))\n",
    "])\n",
    "\n",
    "preprocessor = ColumnTransformer([\n",
    "    ('numerical', numerical_pipeline, [*numerical_features, *binary_features]),\n",
    "    ('categorical', categorical_pipeline, [feature for feature in categorical_features if (feature != 'attack_cat')]),\n",
    "])\n",
    "\n",
    "pipe = Pipeline([\n",
    "    ('preprocessor', preprocessor),\n",
    "    # ('outlier', ReplaceOutliersWithMedian()), \n",
    "    ('filter', SelectKBest(score_func=f_classif, k=70)),\n",
    "    # ('pca', PCA(n_components=70)),\n",
    "])"
   ]
  },
  {
   "cell_type": "code",
   "execution_count": null,
   "metadata": {},
   "outputs": [],
   "source": [
    "train_set = pipe.fit_transform(X, y)\n",
    "test_set = pipe.transform(test_data)\n",
    "print(train_set.shape)\n",
    "print(test_set.shape)"
   ]
  },
  {
   "cell_type": "code",
   "execution_count": null,
   "metadata": {},
   "outputs": [],
   "source": []
  },
  {
   "cell_type": "code",
   "execution_count": null,
   "metadata": {},
   "outputs": [],
   "source": [
    "model.fit(train_set, y)\n",
    "with open('../model/nb.pkl', 'wb') as model_file:\n",
    "    pickle.dump(model, model_file)\n",
    "\n",
    "y_pred = model.predict(test_set)\n",
    "\n",
    "df = pd.DataFrame()\n",
    "df['id'] = test_data['id']\n",
    "df['attack_cat'] = y_pred\n",
    "df.to_csv('../submission/nb.csv', index=False)\n",
    "df.head()"
   ]
  },
  {
   "cell_type": "code",
   "execution_count": null,
   "metadata": {},
   "outputs": [],
   "source": [
    "id3.fit(train_set, y)\n",
    "with open('../model/id3.pkl', 'wb') as model_file:\n",
    "    pickle.dump(id3, model_file)\n",
    "\n",
    "y_pred_id3 = id3.predict(test_set)\n",
    "\n",
    "df = pd.DataFrame()\n",
    "df['id'] = test_data['id']\n",
    "df['attack_cat'] = y_pred_id3\n",
    "df.to_csv('../submission/id3_scratch_submission.csv', index=False)\n",
    "df.head()"
   ]
  },
  {
   "cell_type": "code",
   "execution_count": null,
   "metadata": {},
   "outputs": [],
   "source": [
    "nb_scratch = CustomNaiveBayes()\n",
    "nb_scratch.fit(train_set, y)\n",
    "\n",
    "y_pred_nb_scratch = nb_scratch.predict(test_set)\n",
    "\n",
    "df = pd.DataFrame()\n",
    "df['id'] = test_data['id']\n",
    "df['attack_cat'] = y_pred_nb_scratch\n",
    "df.to_csv('../submission/nb_scratch_submission.csv', index=False)\n",
    "df.head()"
   ]
  },
  {
   "cell_type": "markdown",
   "metadata": {
    "id": "R-jXvKOpLfHi"
   },
   "source": [
    "# 6. Error Analysis\n",
    "\n",
    "Based on all the process you have done until the modeling and evaluation step, write an analysis to support each steps you have taken to solve this problem. Write the analysis using the markdown block. Some questions that may help you in writing the analysis:\n",
    "\n",
    "- Does my model perform better in predicting one class than the other? If so, why is that?\n",
    "- To each models I have tried, which performs the best and what could be the reason?\n",
    "- Is it better for me to impute or drop the missing data? Why?\n",
    "- Does feature scaling help improve my model performance?\n",
    "- etc..."
   ]
  },
  {
   "cell_type": "markdown",
   "metadata": {
    "id": "tWL3nEAELfHj"
   },
   "source": [
    "`Provide your analysis here`"
   ]
  }
 ],
 "metadata": {
  "colab": {
   "provenance": [],
   "toc_visible": true
  },
  "kernelspec": {
   "display_name": "Python 3",
   "language": "python",
   "name": "python3"
  },
  "language_info": {
   "codemirror_mode": {
    "name": "ipython",
    "version": 3
   },
   "file_extension": ".py",
   "mimetype": "text/x-python",
   "name": "python",
   "nbconvert_exporter": "python",
   "pygments_lexer": "ipython3",
   "version": "3.12.0"
  }
 },
 "nbformat": 4,
 "nbformat_minor": 0
}
